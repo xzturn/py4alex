{
 "cells": [
  {
   "cell_type": "code",
   "execution_count": 1,
   "id": "c6fe73f0",
   "metadata": {},
   "outputs": [],
   "source": [
    "import time"
   ]
  },
  {
   "cell_type": "code",
   "execution_count": 4,
   "id": "d56417af",
   "metadata": {},
   "outputs": [],
   "source": [
    "def zuowen():\n",
    "    name = input(\"你叫什么名字：\")\n",
    "    age = input(\"你今年多大：\")\n",
    "    print(\"\\n{}岁的小朋友{}你好，很高兴认识你！\".format(age, name))\n",
    "    print(\"相信你是一个阳光、快乐、勇敢、自信的小男子汉！\")"
   ]
  },
  {
   "cell_type": "code",
   "execution_count": 5,
   "id": "c08fabf7",
   "metadata": {},
   "outputs": [
    {
     "name": "stdout",
     "output_type": "stream",
     "text": [
      "你叫什么名字：孙向言\n",
      "你今年多大：8\n",
      "\n",
      "8岁的小朋友孙向言你好，很高兴认识你！\n",
      "相信你是一个阳光、快乐、勇敢、自信的小男子汉！\n"
     ]
    }
   ],
   "source": [
    "zuowen()"
   ]
  },
  {
   "cell_type": "code",
   "execution_count": null,
   "id": "464fbe5f",
   "metadata": {},
   "outputs": [],
   "source": []
  }
 ],
 "metadata": {
  "kernelspec": {
   "display_name": "Python 3 (ipykernel)",
   "language": "python",
   "name": "python3"
  },
  "language_info": {
   "codemirror_mode": {
    "name": "ipython",
    "version": 3
   },
   "file_extension": ".py",
   "mimetype": "text/x-python",
   "name": "python",
   "nbconvert_exporter": "python",
   "pygments_lexer": "ipython3",
   "version": "3.10.6"
  }
 },
 "nbformat": 4,
 "nbformat_minor": 5
}
