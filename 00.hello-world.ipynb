{
 "cells": [
  {
   "cell_type": "code",
   "execution_count": 1,
   "id": "45b87509",
   "metadata": {},
   "outputs": [
    {
     "name": "stdout",
     "output_type": "stream",
     "text": [
      "hello world\n"
     ]
    }
   ],
   "source": [
    "print(\"hello world\")"
   ]
  },
  {
   "cell_type": "code",
   "execution_count": 3,
   "id": "4aed2e76",
   "metadata": {},
   "outputs": [
    {
     "name": "stdout",
     "output_type": "stream",
     "text": [
      "what's your name: 孙鹏\n"
     ]
    }
   ],
   "source": [
    "name = input(\"what's your name: \")"
   ]
  },
  {
   "cell_type": "code",
   "execution_count": 4,
   "id": "a8a8eafa",
   "metadata": {},
   "outputs": [
    {
     "name": "stdout",
     "output_type": "stream",
     "text": [
      "hello 孙鹏\n"
     ]
    }
   ],
   "source": [
    "print(\"hello {}\".format(name))"
   ]
  },
  {
   "cell_type": "code",
   "execution_count": 5,
   "id": "4fa91fb9",
   "metadata": {},
   "outputs": [],
   "source": [
    "def hello():\n",
    "    name = input(\"what's your name: \")\n",
    "    print(\"hello {}\".format(name))"
   ]
  },
  {
   "cell_type": "code",
   "execution_count": 6,
   "id": "1f201c88",
   "metadata": {},
   "outputs": [
    {
     "name": "stdout",
     "output_type": "stream",
     "text": [
      "what's your name: 刘艳\n",
      "hello 刘艳\n"
     ]
    }
   ],
   "source": [
    "hello()"
   ]
  },
  {
   "cell_type": "code",
   "execution_count": 7,
   "id": "930b5208",
   "metadata": {},
   "outputs": [],
   "source": [
    "hello2 = lambda x: print('hello {}'.format(x))"
   ]
  },
  {
   "cell_type": "code",
   "execution_count": 8,
   "id": "77330782",
   "metadata": {},
   "outputs": [
    {
     "name": "stdout",
     "output_type": "stream",
     "text": [
      "hello 温淑华\n"
     ]
    }
   ],
   "source": [
    "hello2('温淑华')"
   ]
  },
  {
   "cell_type": "code",
   "execution_count": 9,
   "id": "d1d259c1",
   "metadata": {},
   "outputs": [
    {
     "name": "stdout",
     "output_type": "stream",
     "text": [
      "hello 孙向言\n"
     ]
    }
   ],
   "source": [
    "hello2('孙向言')"
   ]
  },
  {
   "cell_type": "code",
   "execution_count": null,
   "id": "edcbe425",
   "metadata": {},
   "outputs": [],
   "source": []
  }
 ],
 "metadata": {
  "kernelspec": {
   "display_name": "Python 3 (ipykernel)",
   "language": "python",
   "name": "python3"
  },
  "language_info": {
   "codemirror_mode": {
    "name": "ipython",
    "version": 3
   },
   "file_extension": ".py",
   "mimetype": "text/x-python",
   "name": "python",
   "nbconvert_exporter": "python",
   "pygments_lexer": "ipython3",
   "version": "3.9.13"
  }
 },
 "nbformat": 4,
 "nbformat_minor": 5
}
