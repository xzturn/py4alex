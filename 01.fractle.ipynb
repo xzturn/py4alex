{
 "cells": [
  {
   "cell_type": "code",
   "execution_count": 1,
   "id": "e54b649e",
   "metadata": {},
   "outputs": [],
   "source": [
    "import turtle\n",
    "import random\n",
    "import sys\n",
    "\n",
    "import numpy as np\n",
    "import matplotlib.pyplot as pl\n",
    "import time\n",
    "\n",
    "from turtle import *\n",
    "\n",
    "sys.tracebacklimit = 0"
   ]
  },
  {
   "cell_type": "code",
   "execution_count": 2,
   "id": "5715b2a9",
   "metadata": {},
   "outputs": [],
   "source": [
    "# 分形6色螺旋\n",
    "colors = ['red', 'purple', 'blue', 'green', 'yellow', 'orange']\n",
    "t = turtle.Pen()\n",
    "turtle.bgcolor('black')\n",
    "\n",
    "for x in range(360):\n",
    "    t.pencolor(colors[x % 6])\n",
    "    t.width(x/100 + 1)\n",
    "    t.forward(x)\n",
    "    t.left(59)"
   ]
  },
  {
   "cell_type": "code",
   "execution_count": 3,
   "id": "67875e28",
   "metadata": {
    "scrolled": true
   },
   "outputs": [],
   "source": [
    "# 分形二叉树\n",
    "my_turtle = Turtle()\n",
    "my_win = my_turtle.getscreen()\n",
    " \n",
    "def tree(branch_len,t):\n",
    "    if branch_len > 5:\n",
    "        if branch_len <= 20:\n",
    "            t.pencolor('green')  # 当树枝很小时,画笔绿色.模拟树叶\n",
    "        else:\n",
    "            t.pencolor('black')\n",
    "        t.pensize(branch_len//10)  # 随着递归的进行 树枝越来越细\n",
    "        t.fd(branch_len)\n",
    "        degree = random.randint(15,30)  # 随机角度\n",
    "        t.rt(degree)\n",
    "        gap = random.uniform(10,15)  # 随机减少的增量\n",
    "        tree(branch_len-gap,t)\n",
    "        t.lt(2*degree)\n",
    "        tree(branch_len-gap, t)\n",
    "        t.rt(degree)\n",
    "        t.backward(branch_len)\n",
    "my_turtle.setheading(90)\n",
    "my_turtle.speed(10)\n",
    "my_turtle.up()\n",
    "my_turtle.backward(300)\n",
    "my_turtle.down()\n",
    "tree(100,my_turtle)\n",
    "\n",
    "my_win.exitonclick()"
   ]
  },
  {
   "cell_type": "code",
   "execution_count": null,
   "id": "a0f0294f",
   "metadata": {},
   "outputs": [],
   "source": [
    "# 分形谢尔宾斯基三角形\n",
    "\n",
    "def draw_triangle(points,color,t):\n",
    "    '''给定三个点绘制三角形'''\n",
    "    t.fillcolor(color)\n",
    "    t.up()\n",
    "    t.goto(points[0])\n",
    "    t.down()\n",
    "    t.begin_fill()\n",
    "    t.goto(points[1])\n",
    "    t.goto(points[2])\n",
    "    t.end_fill()\n",
    " \n",
    "def get_mid(p1,p2):\n",
    "    '''求中点'''\n",
    "    return ((p1[0] +p2[0]) / 2,(p1[1] +p2[1]) / 2)\n",
    " \n",
    "def sierpinski(points,depth,t):\n",
    "    color_map = ['black','white','yellow','red','pink','purple','orange','cyan','violet'\n",
    "                 ,'blue','green']\n",
    "    draw_triangle(points,color_map[depth],t)\n",
    "    if depth > 0:  # 当递归深度大于0时,在3各小三角形中递归调用谢尔宾斯基三角形\n",
    "        sierpinski([points[0],get_mid(points[0],points[1]),\\\n",
    "                    get_mid(points[0],points[2])],depth-1, t)\n",
    "        sierpinski([points[1],get_mid(points[0],points[1]),\\\n",
    "                    get_mid(points[1],points[2])],depth-1, t)\n",
    "        sierpinski([points[2],get_mid(points[0],points[2]),\\\n",
    "                    get_mid(points[1],points[2])],depth-1, t)\n",
    " \n",
    "my_turtle = Turtle()\n",
    "my_turtle.speed(10)\n",
    "my_win = my_turtle.getscreen()\n",
    "screensize(1600,900)\n",
    " \n",
    "my_points = [(-300,-250),(0,300),(300,-250)]\n",
    "sierpinski(my_points,8,my_turtle)\n",
    " \n",
    "my_win.exitonclick()"
   ]
  },
  {
   "cell_type": "code",
   "execution_count": null,
   "id": "fa295b31",
   "metadata": {},
   "outputs": [],
   "source": []
  }
 ],
 "metadata": {
  "kernelspec": {
   "display_name": "Python 3 (ipykernel)",
   "language": "python",
   "name": "python3"
  },
  "language_info": {
   "codemirror_mode": {
    "name": "ipython",
    "version": 3
   },
   "file_extension": ".py",
   "mimetype": "text/x-python",
   "name": "python",
   "nbconvert_exporter": "python",
   "pygments_lexer": "ipython3",
   "version": "3.10.6"
  }
 },
 "nbformat": 4,
 "nbformat_minor": 5
}
